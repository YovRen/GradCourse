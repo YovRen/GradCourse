{
 "cells": [
  {
   "cell_type": "code",
   "execution_count": 1,
   "id": "d7e1fdd5-3fdc-48eb-82c7-4e7fc4db3131",
   "metadata": {},
   "outputs": [
    {
     "name": "stderr",
     "output_type": "stream",
     "text": [
      "/root/miniconda3/lib/python3.9/site-packages/tqdm/auto.py:21: TqdmWarning: IProgress not found. Please update jupyter and ipywidgets. See https://ipywidgets.readthedocs.io/en/stable/user_install.html\n",
      "  from .autonotebook import tqdm as notebook_tqdm\n"
     ]
    }
   ],
   "source": [
    "import os\n",
    "import math\n",
    "import torch\n",
    "import torch.nn as nn\n",
    "from torch.utils.data import DataLoader, Dataset\n",
    "from torchtext.vocab import build_vocab_from_iterator\n",
    "from torch.nn.functional import pad, log_softmax\n",
    "from pathlib import Path\n",
    "from nltk.translate.bleu_score import sentence_bleu\n",
    "from tqdm import tqdm\n",
    "from model import Transformer\n",
    "from transformers import AutoTokenizer\n",
    "import matplotlib.pyplot as plt\n",
    "import warnings\n",
    "warnings.filterwarnings(\"ignore\")"
   ]
  },
  {
   "cell_type": "code",
   "execution_count": 2,
   "id": "6d48ffb1-f14a-44b9-b1fa-d985f0ad1bac",
   "metadata": {},
   "outputs": [],
   "source": [
    "batch_size = 256\n",
    "epochs = 1\n",
    "save_after_step = 100\n",
    "max_length = 72\n",
    "use_cache = True\n",
    "model_checkpoint=False\n",
    "d_model = 512     # 模型维度\n",
    "d_ffn = 2048\n",
    "nhead = 8         # 多头注意力的头数\n",
    "dropout = 0.1\n",
    "num_encoder_layers = 6  # 编码器层数\n",
    "num_decoder_layers = 6  # 解码器层数\n",
    "en_vocab_size=22776\n",
    "zh_vocab_size=4726\n",
    "device = torch.device('cuda' if torch.cuda.is_available() else 'cpu')\n",
    "torch.cuda.empty_cache()"
   ]
  },
  {
   "cell_type": "code",
   "execution_count": 3,
   "id": "b15ea5be-788c-4c02-bf7f-1fe5c0d0af2d",
   "metadata": {},
   "outputs": [
    {
     "name": "stdout",
     "output_type": "stream",
     "text": [
      "句子数量为： 320713\n",
      "句子最大长度为： 72\n"
     ]
    }
   ],
   "source": [
    "en_filepath = 'data/news-commentary-v15.en'\n",
    "zh_filepath = 'data/news-commentary-v15.zh'\n",
    "def get_row_count(filepath):\n",
    "    count = 0\n",
    "    with open(filepath, encoding='utf-8-sig') as file:\n",
    "        for line in file:\n",
    "            count += 1\n",
    "    return count\n",
    "en_row_count = get_row_count(en_filepath)\n",
    "zh_row_count = get_row_count(zh_filepath)\n",
    "assert en_row_count == zh_row_count, \"英文和中文文件行数不一致！\"\n",
    "row_count = en_row_count\n",
    "print(\"句子数量为：\", en_row_count)\n",
    "print(\"句子最大长度为：\", max_length)"
   ]
  },
  {
   "cell_type": "code",
   "execution_count": 4,
   "id": "4f43618a-60f7-453a-8b3d-679fd9e80162",
   "metadata": {},
   "outputs": [
    {
     "name": "stdout",
     "output_type": "stream",
     "text": [
      "英文词典大小: 22776\n",
      "中文词典大小: 4726\n"
     ]
    }
   ],
   "source": [
    "tokenizer = AutoTokenizer.from_pretrained(\"bert-base-uncased\")\n",
    "def en_tokenizer(line):\n",
    "    \"\"\"\n",
    "    定义英文分词器，后续也要使用\n",
    "    :param line: 一句英文句子，例如\"I'm learning Deep learning.\"\n",
    "    :return: subword分词后的记过，例如：['i', \"'\", 'm', 'learning', 'deep', 'learning', '.']\n",
    "    \"\"\"\n",
    "    return tokenizer.tokenize(line, add_special_tokens=False)\n",
    "\n",
    "def zh_tokenizer(line):\n",
    "    \"\"\"\n",
    "    定义中文分词器\n",
    "    :param line: 中文句子，例如：机器学习\n",
    "    :return: 分词结果，例如['机','器','学','习']\n",
    "    \"\"\"\n",
    "    return list(line.strip().replace(\" \", \"\"))\n",
    "    \n",
    "def yield_en_tokens():\n",
    "    file = open(en_filepath, encoding='utf-8')\n",
    "    print(\"-------开始构建英文词典-----------\")\n",
    "    for line in tqdm(file, desc=\"构建英文词典\", total=row_count):\n",
    "        yield en_tokenizer(line)\n",
    "    file.close()\n",
    "\n",
    "def yield_zh_tokens():\n",
    "    file = open(zh_filepath, encoding='utf-8')\n",
    "    print(\"-------开始构建中文词典-----------\")\n",
    "    for line in tqdm(file, desc=\"构建中文词典\", total=row_count):\n",
    "        yield zh_tokenizer(line)\n",
    "    file.close()\n",
    "    \n",
    "\n",
    "en_vocab_file = \"vocab_en.pt\"\n",
    "if os.path.exists(en_vocab_file):\n",
    "    en_vocab = torch.load(en_vocab_file, map_location=\"cpu\")\n",
    "else:\n",
    "    en_vocab = build_vocab_from_iterator(yield_en_tokens(), min_freq=2, specials=[\"<s>\", \"</s>\", \"<pad>\", \"<unk>\"])\n",
    "    en_vocab.set_default_index(en_vocab[\"<unk>\"])\n",
    "    torch.save(en_vocab, en_vocab_file)\n",
    "print(\"英文词典大小:\", len(en_vocab))\n",
    "\n",
    "zh_vocab_file = \"vocab_zh.pt\"\n",
    "if os.path.exists(zh_vocab_file):\n",
    "    zh_vocab = torch.load(zh_vocab_file, map_location=\"cpu\")\n",
    "else:\n",
    "    zh_vocab = build_vocab_from_iterator(yield_zh_tokens(), min_freq=1, specials=[\"<s>\", \"</s>\", \"<pad>\", \"<unk>\"])\n",
    "    zh_vocab.set_default_index(zh_vocab[\"<unk>\"])\n",
    "    torch.save(zh_vocab, zh_vocab_file)\n",
    "print(\"中文词典大小:\", len(zh_vocab))"
   ]
  },
  {
   "cell_type": "code",
   "execution_count": 5,
   "id": "d29ee1b0-8e23-40d1-ab68-f6cb2b843cff",
   "metadata": {},
   "outputs": [
    {
     "name": "stdout",
     "output_type": "stream",
     "text": [
      "正在加载缓存文件tokens_list.en.pt, 请稍后...\n",
      "正在加载缓存文件tokens_list.zh.pt, 请稍后...\n"
     ]
    }
   ],
   "source": [
    "def load_tokens(file, tokenizer, vocab, desc, lang):\n",
    "    \"\"\"\n",
    "    加载tokens，即将文本句子们转换成index们。\n",
    "    :param file: 文件路径，例如\"./dataset/train.en\"\n",
    "    :param tokenizer: 分词器，例如en_tokenizer函数\n",
    "    :param vocab: 词典, Vocab类对象。例如 en_vocab\n",
    "    :param desc: 用于进度显示的描述，例如：构建英文tokens\n",
    "    :param lang: 语言。用于构造缓存文件时进行区分。例如：’en‘\n",
    "    :return: 返回构造好的tokens。例如：[[6, 8, 93, 12, ..], [62, 891, ...], ...]\n",
    "    \"\"\"\n",
    "    # 定义缓存文件存储路径\n",
    "    cache_file = \"tokens_list.{}.pt\".format(lang)\n",
    "    if os.path.exists(cache_file):\n",
    "        print(f\"正在加载缓存文件{cache_file}, 请稍后...\")\n",
    "        return torch.load(cache_file, map_location=\"cpu\")\n",
    "    tokens_list = []\n",
    "    with open(file, encoding='utf-8') as file:\n",
    "        for line in tqdm(file, desc=desc, total=row_count):\n",
    "            tokens = tokenizer(line)\n",
    "            tokens = vocab(tokens)\n",
    "            tokens_list.append(tokens)\n",
    "    torch.save(tokens_list, cache_file)\n",
    "    return tokens_list\n",
    "\n",
    "en_tokens=load_tokens(en_filepath, en_tokenizer, en_vocab, \"构建英文tokens\", 'en')\n",
    "zh_tokens=load_tokens(zh_filepath, zh_tokenizer, zh_vocab, \"构建中文tokens\", 'zh')"
   ]
  },
  {
   "cell_type": "code",
   "execution_count": 6,
   "id": "c07d4f7b-c7c0-4c99-a074-96fb6f45b8ef",
   "metadata": {},
   "outputs": [],
   "source": [
    "train_size = int(0.8 * row_count)\n",
    "valid_size = int(0.1 * row_count)\n",
    "en_train = en_tokens[:train_size]\n",
    "zh_train = zh_tokens[:train_size]\n",
    "en_valid = en_tokens[train_size:train_size + valid_size]\n",
    "zh_valid = zh_tokens[train_size:train_size + valid_size]\n",
    "en_test = en_tokens[train_size + valid_size:]\n",
    "zh_test = zh_tokens[train_size + valid_size:]\n",
    "\n",
    "\n",
    "class TranslationDataset(Dataset):\n",
    "    def __init__(self, en_tokens, zh_tokens):\n",
    "        self.en_tokens = en_tokens\n",
    "        self.zh_tokens = zh_tokens\n",
    "\n",
    "    def __getitem__(self, index):\n",
    "        return self.en_tokens[index], self.zh_tokens[index]\n",
    "\n",
    "    def __len__(self):\n",
    "        return len(self.en_tokens)\n",
    "\n",
    "train_dataset = TranslationDataset(en_train,zh_train)\n",
    "valid_dataset = TranslationDataset(en_valid,zh_valid)\n",
    "test_dataset = TranslationDataset(en_test,zh_test)"
   ]
  },
  {
   "cell_type": "code",
   "execution_count": 7,
   "id": "e74a68c2-759e-4d91-8b20-31490743314e",
   "metadata": {},
   "outputs": [],
   "source": [
    "def collate_fn(batch):\n",
    "    bs_id = torch.tensor([0])\n",
    "    eos_id = torch.tensor([1])\n",
    "    pad_id = 2\n",
    "    src_list, tgt_list = [], []\n",
    "    for (_src, _tgt) in batch:\n",
    "        processed_src = torch.cat([bs_id,torch.tensor(_src, dtype=torch.int64),eos_id,],0)\n",
    "        processed_tgt = torch.cat([bs_id,torch.tensor(_tgt, dtype=torch.int64),eos_id,],0)\n",
    "        src_list.append(pad(processed_src, (0, max_length - len(processed_src)), value=pad_id))\n",
    "        tgt_list.append(pad(processed_tgt, (0, max_length - len(processed_tgt)), value=pad_id))\n",
    "    src = torch.stack(src_list)\n",
    "    tgt = torch.stack(tgt_list)\n",
    "    tgt_y = tgt[:, 1:]\n",
    "    tgt = tgt[:, :-1]\n",
    "    n_tokens = (tgt_y != 2).sum()\n",
    "    return src, tgt, tgt_y, n_tokens\n",
    "\n",
    "train_loader = DataLoader(train_dataset, batch_size=batch_size, shuffle=True, collate_fn=collate_fn)\n",
    "valid_loader = DataLoader(valid_dataset, batch_size=batch_size, shuffle=True, collate_fn=collate_fn)\n",
    "test_loader = DataLoader(test_dataset, batch_size=batch_size, shuffle=True, collate_fn=collate_fn)"
   ]
  },
  {
   "cell_type": "code",
   "execution_count": 8,
   "id": "31356b8e-970d-4b61-8ebc-1211fa4927c8",
   "metadata": {},
   "outputs": [],
   "source": [
    "class TranslationLoss(nn.Module):\n",
    "    def __init__(self):\n",
    "        super(TranslationLoss, self).__init__()\n",
    "        self.criterion = nn.KLDivLoss(reduction=\"sum\")\n",
    "        self.padding_idx = 2\n",
    "\n",
    "    def forward(self, x, target):\n",
    "        true_dist = torch.zeros(x.size()).to(device)\n",
    "        true_dist.scatter_(1, target.data.unsqueeze(1), 1)\n",
    "        mask = torch.nonzero(target.data == self.padding_idx)\n",
    "        if mask.dim() > 0:\n",
    "            true_dist.index_fill_(0, mask.squeeze(), 0.0)\n",
    "        return self.criterion(x, true_dist.clone().detach())\n",
    "\n",
    "model = Transformer(en_vocab_size, zh_vocab_size, d_model, d_ffn, nhead, dropout, num_encoder_layers, num_decoder_layers).to(device)\n",
    "optimizer = torch.optim.Adam(model.parameters(), lr=3e-4)\n",
    "criteria = TranslationLoss()"
   ]
  },
  {
   "cell_type": "code",
   "execution_count": 9,
   "id": "3ef3e4bb-6f51-4972-b1f2-410cc7033b1d",
   "metadata": {},
   "outputs": [],
   "source": [
    "def train():\n",
    "    step = 0\n",
    "    train_loss_list = []\n",
    "    val_loss_list = []\n",
    "    val_bleu1_list = []\n",
    "    val_bleu4_list = []\n",
    "    step_list = []\n",
    "    for epoch in range(epochs):\n",
    "        train_loss = 0\n",
    "        loop = tqdm(enumerate(train_loader), total=len(train_loader))\n",
    "        for index, (src, tgt, tgt_y, n_tokens) in enumerate(train_loader):\n",
    "            model.train()\n",
    "            src, tgt, tgt_y = src.to(device), tgt.to(device), tgt_y.to(device)\n",
    "            optimizer.zero_grad()\n",
    "            out = model(src, tgt)\n",
    "            loss = criteria(out.contiguous().view(-1, out.size(-1)), tgt_y.contiguous().view(-1)) / n_tokens\n",
    "            loss.backward()\n",
    "            train_loss+=loss.item()\n",
    "            optimizer.step()\n",
    "            loop.set_description(\"Epoch {}/{}\".format(epoch, epochs))\n",
    "            loop.set_postfix(loss=loss.item())\n",
    "            loop.update(1)\n",
    "            step+=1\n",
    "            if step != 0 and step % save_after_step == 0:\n",
    "                val_loss, val_bleu1, val_bleu4 = val(test=False)\n",
    "                train_loss /= save_after_step\n",
    "                train_loss_list.append(train_loss)\n",
    "                val_loss_list.append(val_loss)\n",
    "                val_bleu1_list.append(val_bleu1)\n",
    "                val_bleu4_list.append(val_bleu4)\n",
    "                step_list.append(step)\n",
    "                train_loss=0\n",
    "                print(\"val_loss:{},val_bleu1:{},val_bleu4:{}\".format(val_loss,val_bleu1,val_bleu4))\n",
    "    return train_loss_list, val_loss_list, val_bleu1_list,val_bleu4_list, step_list\n",
    "\n",
    "def val(test):\n",
    "    model.eval()\n",
    "    val_loader = valid_loader if test==False else test_loader\n",
    "    val_loss = val_bleu1 = val_bleu4 = 0\n",
    "    tgt_y_list = []\n",
    "    pred_y_list = []\n",
    "    for index, (src, tgt, tgt_y, n_tokens) in enumerate(val_loader):\n",
    "        src, tgt, tgt_y = src.to(device), tgt.to(device), tgt_y.to(device)\n",
    "        with torch.no_grad():\n",
    "            out = model(src, tgt)\n",
    "        pred_y = torch.argmax(out, dim=-1)\n",
    "        loss = criteria(out.contiguous().view(-1, out.size(-1)), tgt_y.contiguous().view(-1)) / n_tokens\n",
    "        val_loss +=loss.item()\n",
    "        for yy in tgt_y.cpu().tolist():\n",
    "            tgt_y_list.append(zh_vocab.lookup_tokens(yy))\n",
    "        for yy in pred_y.cpu().tolist():\n",
    "            pred_y_list.append(zh_vocab.lookup_tokens(yy))\n",
    "    for out, tar in zip(pred_y_list, tgt_y_list):\n",
    "        val_bleu1 += sentence_bleu([tar], out, weights=(1, 0, 0, 0))\n",
    "        val_bleu4 += sentence_bleu([tar], out, weights=(0, 0, 0, 1))\n",
    "    val_loss /= len(val_loader)\n",
    "    val_bleu1 /= len(val_loader)\n",
    "    val_bleu4 /= len(val_loader)\n",
    "    return val_loss, val_bleu1, val_bleu4\n",
    "\n",
    "def translate(src: str):\n",
    "    model.eval()\n",
    "    src = torch.tensor([0] + en_vocab(en_tokenizer(src)) + [1]).unsqueeze(0).to(device)\n",
    "    tgt = torch.tensor([[0]]).to(device)\n",
    "    for i in range(max_length):\n",
    "        out = model(src, tgt)\n",
    "        predict = model.predictor(out[:, -1])\n",
    "        y = torch.argmax(predict, dim=1)\n",
    "        \n",
    "        tgt = torch.concat([tgt, y.unsqueeze(0)], dim=1)\n",
    "        if y == 1:\n",
    "            break\n",
    "    tgt = ''.join(zh_vocab.lookup_tokens(tgt.squeeze().tolist())).replace(\"<s>\", \"\").replace(\"</s>\", \"\")\n",
    "    return tgt"
   ]
  },
  {
   "cell_type": "code",
   "execution_count": 10,
   "id": "2e8f7bce-a501-4db3-8103-60fc01ce41eb",
   "metadata": {},
   "outputs": [
    {
     "name": "stderr",
     "output_type": "stream",
     "text": [
      "Epoch 0/1:  10%|▉         | 100/1003 [00:48<07:31,  2.00it/s, loss=4.65]"
     ]
    },
    {
     "name": "stdout",
     "output_type": "stream",
     "text": [
      "val_loss:4.620581017600165,val_bleu1:48.12597809076835,val_bleu4:0.12628384687208447\n"
     ]
    },
    {
     "name": "stderr",
     "output_type": "stream",
     "text": [
      "Epoch 0/1:  20%|█▉        | 200/1003 [02:28<06:25,  2.08it/s, loss=4.27]  "
     ]
    },
    {
     "name": "stdout",
     "output_type": "stream",
     "text": [
      "val_loss:4.209968801528689,val_bleu1:55.00581265370148,val_bleu4:0.29190009337069206\n"
     ]
    },
    {
     "name": "stderr",
     "output_type": "stream",
     "text": [
      "Epoch 0/1:  30%|██▉       | 300/1003 [04:08<05:53,  1.99it/s, loss=3.93]  "
     ]
    },
    {
     "name": "stdout",
     "output_type": "stream",
     "text": [
      "val_loss:3.8750570161002025,val_bleu1:60.98144422088207,val_bleu4:1.1782212885153882\n"
     ]
    },
    {
     "name": "stderr",
     "output_type": "stream",
     "text": [
      "Epoch 0/1:  40%|███▉      | 400/1003 [05:49<04:57,  2.03it/s, loss=3.62]  "
     ]
    },
    {
     "name": "stdout",
     "output_type": "stream",
     "text": [
      "val_loss:3.5924150641002353,val_bleu1:67.13827408897913,val_bleu4:2.651027077497223\n"
     ]
    },
    {
     "name": "stderr",
     "output_type": "stream",
     "text": [
      "Epoch 0/1:  50%|████▉     | 500/1003 [07:31<04:11,  2.00it/s, loss=3.43]  "
     ]
    },
    {
     "name": "stdout",
     "output_type": "stream",
     "text": [
      "val_loss:3.3839570794786726,val_bleu1:71.24033087413461,val_bleu4:3.7763772175529695\n"
     ]
    },
    {
     "name": "stderr",
     "output_type": "stream",
     "text": [
      "Epoch 0/1:  60%|█████▉    | 600/1003 [09:12<03:23,  1.98it/s, loss=3.33]  "
     ]
    },
    {
     "name": "stdout",
     "output_type": "stream",
     "text": [
      "val_loss:3.2332302842821394,val_bleu1:73.87424547283852,val_bleu4:5.111694677870041\n"
     ]
    },
    {
     "name": "stderr",
     "output_type": "stream",
     "text": [
      "Epoch 0/1:  70%|██████▉   | 700/1003 [10:53<02:29,  2.02it/s, loss=3.13]  "
     ]
    },
    {
     "name": "stdout",
     "output_type": "stream",
     "text": [
      "val_loss:3.1117645748077876,val_bleu1:76.43773753633013,val_bleu4:6.117763772174197\n"
     ]
    },
    {
     "name": "stderr",
     "output_type": "stream",
     "text": [
      "Epoch 0/1:  80%|███████▉  | 800/1003 [12:36<01:42,  1.99it/s, loss=3.06]  "
     ]
    },
    {
     "name": "stdout",
     "output_type": "stream",
     "text": [
      "val_loss:3.008940541555011,val_bleu1:78.37704001788491,val_bleu4:7.1751867413617125\n"
     ]
    },
    {
     "name": "stderr",
     "output_type": "stream",
     "text": [
      "Epoch 0/1:  90%|████████▉ | 900/1003 [14:17<00:51,  2.00it/s, loss=2.91]"
     ]
    },
    {
     "name": "stdout",
     "output_type": "stream",
     "text": [
      "val_loss:2.9159548528610713,val_bleu1:79.50458305387967,val_bleu4:8.097805788980672\n"
     ]
    },
    {
     "name": "stderr",
     "output_type": "stream",
     "text": [
      "Epoch 0/1: 100%|█████████▉| 1000/1003 [15:58<00:01,  1.94it/s, loss=2.89]"
     ]
    },
    {
     "name": "stdout",
     "output_type": "stream",
     "text": [
      "val_loss:2.836310350705707,val_bleu1:81.01799687010953,val_bleu4:8.85562558356479\n"
     ]
    },
    {
     "name": "stderr",
     "output_type": "stream",
     "text": [
      "Epoch 0/1: 100%|██████████| 1003/1003 [16:50<00:00,  1.01s/it, loss=2.8] \n"
     ]
    },
    {
     "name": "stdout",
     "output_type": "stream",
     "text": [
      "10\n"
     ]
    },
    {
     "data": {
      "image/png": "[encoded data removed]",
      "text/plain": [
       "<Figure size 640x480 with 1 Axes>"
      ]
     },
     "metadata": {},
     "output_type": "display_data"
    }
   ],
   "source": [
    "train_loss_list, val_loss_list, val_bleu1_list,val_bleu4_list, step_list = train()\n",
    "val(test=True)\n",
    "# 绘制图像\n",
    "print(len(train_loss_list))\n",
    "plt.plot(step_list, train_loss_list, label='Train Loss')\n",
    "plt.plot(step_list, val_loss_list, label='Valid Loss')\n",
    "plt.plot(step_list, val_bleu1_list, label='Valid BLEU-1')\n",
    "plt.plot(step_list, val_bleu4_list, label='Valid BLEU-4')\n",
    "\n",
    "# 添加标签和标题\n",
    "plt.xlabel('Steps')\n",
    "plt.ylabel('Values')\n",
    "plt.title('Training Metrics')\n",
    "\n",
    "# 添加图例\n",
    "plt.legend()\n",
    "\n",
    "# 保存图像到本地\n",
    "plt.savefig('metrics.png')\n",
    "\n",
    "# 显示图像（可选）\n",
    "plt.show()"
   ]
  },
  {
   "cell_type": "code",
   "execution_count": 11,
   "id": "e923e7b0-cf5b-40ee-9575-896b5f535061",
   "metadata": {},
   "outputs": [
    {
     "name": "stdout",
     "output_type": "stream",
     "text": [
      "(2.7430548289465526, 81.7966689023029, 9.988445378148882)\n"
     ]
    }
   ],
   "source": [
    "print(val(test=True))"
   ]
  }
 ],
 "metadata": {
  "kernelspec": {
   "display_name": "Python 3 (ipykernel)",
   "language": "python",
   "name": "python3"
  },
  "language_info": {
   "codemirror_mode": {
    "name": "ipython",
    "version": 3
   },
   "file_extension": ".py",
   "mimetype": "text/x-python",
   "name": "python",
   "nbconvert_exporter": "python",
   "pygments_lexer": "ipython3",
   "version": "3.9.16"
  }
 },
 "nbformat": 4,
 "nbformat_minor": 5
}
