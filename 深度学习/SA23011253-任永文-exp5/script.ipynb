{
 "cells": [
  {
   "cell_type": "code",
   "execution_count": 2,
   "metadata": {},
   "outputs": [],
   "source": [
    "'''\n",
    "Usage: \n",
    "python cut2.py fpath new_data_dir\n",
    "'''\n",
    "\n",
    "def cut2(fpath):\n",
    "    fp = open(fpath, encoding='utf-8')\n",
    "    src_fp = open(\"data/news-commentary-v15.zh\", 'w', encoding='utf-8')\n",
    "    tgt_fp = open(\"data/news-commentary-v15.en\", 'w', encoding='utf-8')\n",
    "    for line in fp.readlines():\n",
    "        tgt_line, src_line = line.replace('\\n', '').split('\\t')\n",
    "        src_fp.write(src_line + '\\n')\n",
    "        tgt_fp.write(tgt_line + '\\n')\n",
    "    src_fp.close()\n",
    "    tgt_fp.close()\n",
    "\n",
    "if __name__ == '__main__':      \n",
    "    cut2(fpath=\"data/news-commentary-v15.en-zh.tsv\")\n"
   ]
  }
 ],
 "metadata": {
  "kernelspec": {
   "display_name": "Python 3.8.18 ('torch18')",
   "language": "python",
   "name": "python3"
  },
  "language_info": {
   "codemirror_mode": {
    "name": "ipython",
    "version": 3
   },
   "file_extension": ".py",
   "mimetype": "text/x-python",
   "name": "python",
   "nbconvert_exporter": "python",
   "pygments_lexer": "ipython3",
   "version": "3.8.18"
  },
  "orig_nbformat": 4,
  "vscode": {
   "interpreter": {
    "hash": "abd70ae60c8c2833e63aace0b7493006069f8b3061f34fc51f7cc8e79bdf7e24"
   }
  }
 },
 "nbformat": 4,
 "nbformat_minor": 2
}
